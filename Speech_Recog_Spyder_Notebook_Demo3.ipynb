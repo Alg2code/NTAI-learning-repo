{
 "cells": [
  {
   "cell_type": "code",
   "id": "1b84d337",
   "metadata": {
    "pycharm": {
     "name": "#%%\n"
    }
   },
   "source": [
    "## Verify Current Environment"
   ],
   "execution_count": 4,
   "outputs": []
  },
  {
   "cell_type": "code",
   "execution_count": 5,
   "id": "f5258c2f",
   "metadata": {},
   "outputs": [
    {
     "name": "stdout",
     "output_type": "stream",
     "text": [
      "Working Directory:   C:\\Users\\parke\\OneDrive\\!01-2021-Software & IDEs\\11-speechrecogn\n",
      "Virtual Environment: C:\\Users\\parke\\masterEnv\\mysprenv\n",
      "Runtime Interpreter: C:\\Users\\parke\\masterEnv\\mysprenv\\Scripts\\python.exe\n",
      "Python source:       3.10.0b3 (tags/v3.10.0b3:865714a, Jun 17 2021, 20:39:25) [MSC v.1929 64 bit (AMD64)]\n",
      "OS Platform:         win32\n",
      "Current CPU:         AMD64 Family 23 Model 104 Stepping 1, AuthenticAMD, with ('64bit', 'WindowsPE')\n",
      "Windows version:     10.0.22000\n"
     ]
    }
   ],
   "source": [
    "def get_runtime_config():\n",
    "    ''' \n",
    "    add documentation here !! \n",
    "    '''\n",
    "    import os\n",
    "    import sys\n",
    "    import platform\n",
    "    \n",
    "    print(f'Working Directory:   {os.getcwd()}')\n",
    "    print(f'Virtual Environment: {sys.prefix}')\n",
    "    print(f'Runtime Interpreter: {sys.executable}')\n",
    "    print(f'Python source:       {sys.version}')\n",
    "    print(f'OS Platform:         {sys.platform}')\n",
    "    print(f'Current CPU:         {platform.processor()}, with {platform.architecture()}')\n",
    "    print(f'Windows version:     {platform.version()}')\n",
    "    \n",
    "get_runtime_config()\n"
   ]
  },
  {
   "cell_type": "code",
   "execution_count": 6,
   "id": "a8382e9c",
   "metadata": {},
   "outputs": [],
   "source": [
    "import speech_recognition as sr\n",
    "from translate import Translator"
   ]
  },
  {
   "cell_type": "markdown",
   "id": "34a601b9",
   "metadata": {},
   "source": [
    "## Exploring the SpeechRecognition Package"
   ]
  },
  {
   "cell_type": "markdown",
   "id": "bd069cf0",
   "metadata": {},
   "source": [
    "#### Import SpeechRecognizer Package"
   ]
  },
  {
   "cell_type": "markdown",
   "id": "e624a921",
   "metadata": {},
   "source": [
    "#### Create an Recognizer class instance:"
   ]
  },
  {
   "cell_type": "code",
   "execution_count": 7,
   "id": "05fe3130",
   "metadata": {},
   "outputs": [
    {
     "ename": "NameError",
     "evalue": "name 'audio' is not defined",
     "output_type": "error",
     "traceback": [
      "\u001B[1;31m---------------------------------------------------------------------------\u001B[0m",
      "\u001B[1;31mNameError\u001B[0m                                 Traceback (most recent call last)",
      "Input \u001B[1;32mIn [7]\u001B[0m, in \u001B[0;36m<module>\u001B[1;34m\u001B[0m\n\u001B[1;32m----> 1\u001B[0m recog \u001B[38;5;241m=\u001B[39m sr\u001B[38;5;241m.\u001B[39mRecognizer(\u001B[43maudio\u001B[49m)\n",
      "\u001B[1;31mNameError\u001B[0m: name 'audio' is not defined"
     ]
    }
   ],
   "source": [
    "recog = sr.Recognizer(audio)"
   ]
  },
  {
   "cell_type": "code",
   "execution_count": null,
   "id": "e4446506",
   "metadata": {},
   "outputs": [],
   "source": [
    "#recog.recognize_google()"
   ]
  },
  {
   "cell_type": "markdown",
   "id": "9ec3050f",
   "metadata": {},
   "source": [
    "# Working With Audio Files"
   ]
  },
  {
   "cell_type": "markdown",
   "id": "4d37dfc2",
   "metadata": {},
   "source": [
    "# Using record() to Capture Data From a File"
   ]
  },
  {
   "cell_type": "code",
   "execution_count": 17,
   "id": "10d9bbb4",
   "metadata": {},
   "outputs": [],
   "source": [
    "harvard_wav_file = r'C:\\Users\\parke\\masterEnv\\mysprenv\\Harvard list 01.wav'"
   ]
  },
  {
   "cell_type": "code",
   "execution_count": 11,
   "id": "93453c5f",
   "metadata": {},
   "outputs": [
    {
     "data": {
      "text/plain": "'/C:\\\\Users\\\\parke\\\\masterEnv\\\\mysprenv\\\\Harvard list 01.wav'"
     },
     "execution_count": 11,
     "metadata": {},
     "output_type": "execute_result"
    }
   ],
   "source": [
    "harvard_wav_file"
   ]
  },
  {
   "cell_type": "code",
   "execution_count": 18,
   "id": "a3c12665",
   "metadata": {},
   "outputs": [
    {
     "data": {
      "text/plain": "str"
     },
     "execution_count": 18,
     "metadata": {},
     "output_type": "execute_result"
    }
   ],
   "source": [
    "type(harvard_wav_file)"
   ]
  },
  {
   "cell_type": "markdown",
   "id": "1eeb173d",
   "metadata": {},
   "source": [
    "Method Below creates a handle for the file referred to by the 'harvard_wav_file' variable"
   ]
  },
  {
   "cell_type": "code",
   "execution_count": 14,
   "id": "a425ca5f",
   "metadata": {},
   "outputs": [
    {
     "data": {
      "text/plain": "<speech_recognition.AudioFile at 0x183f511a9b0>"
     },
     "execution_count": 14,
     "metadata": {},
     "output_type": "execute_result"
    }
   ],
   "source": [
    "harvard = sr.AudioFile(harvard_wav_file)\n",
    "harvard"
   ]
  },
  {
   "cell_type": "code",
   "execution_count": 21,
   "id": "55fdac32",
   "metadata": {},
   "outputs": [
    {
     "ename": "OSError",
     "evalue": "[Errno 22] Invalid argument: '/C:\\\\Users\\\\parke\\\\masterEnv\\\\mysprenv\\\\Harvard list 01.wav'",
     "output_type": "error",
     "traceback": [
      "\u001B[1;31m---------------------------------------------------------------------------\u001B[0m",
      "\u001B[1;31mOSError\u001B[0m                                   Traceback (most recent call last)",
      "Input \u001B[1;32mIn [21]\u001B[0m, in \u001B[0;36m<module>\u001B[1;34m\u001B[0m\n\u001B[1;32m----> 1\u001B[0m \u001B[38;5;28;01mwith\u001B[39;00m harvard \u001B[38;5;28;01mas\u001B[39;00m source:\n\u001B[0;32m      2\u001B[0m     audio \u001B[38;5;241m=\u001B[39m recog\u001B[38;5;241m.\u001B[39mrecord(source)\n",
      "File \u001B[1;32m~\\masterEnv\\mysprenv\\lib\\site-packages\\speech_recognition\\__init__.py:203\u001B[0m, in \u001B[0;36mAudioFile.__enter__\u001B[1;34m(self)\u001B[0m\n\u001B[0;32m    200\u001B[0m \u001B[38;5;28;01massert\u001B[39;00m \u001B[38;5;28mself\u001B[39m\u001B[38;5;241m.\u001B[39mstream \u001B[38;5;129;01mis\u001B[39;00m \u001B[38;5;28;01mNone\u001B[39;00m, \u001B[38;5;124m\"\u001B[39m\u001B[38;5;124mThis audio source is already inside a context manager\u001B[39m\u001B[38;5;124m\"\u001B[39m\n\u001B[0;32m    201\u001B[0m \u001B[38;5;28;01mtry\u001B[39;00m:\n\u001B[0;32m    202\u001B[0m     \u001B[38;5;66;03m# attempt to read the file as WAV\u001B[39;00m\n\u001B[1;32m--> 203\u001B[0m     \u001B[38;5;28mself\u001B[39m\u001B[38;5;241m.\u001B[39maudio_reader \u001B[38;5;241m=\u001B[39m \u001B[43mwave\u001B[49m\u001B[38;5;241;43m.\u001B[39;49m\u001B[43mopen\u001B[49m\u001B[43m(\u001B[49m\u001B[38;5;28;43mself\u001B[39;49m\u001B[38;5;241;43m.\u001B[39;49m\u001B[43mfilename_or_fileobject\u001B[49m\u001B[43m,\u001B[49m\u001B[43m \u001B[49m\u001B[38;5;124;43m\"\u001B[39;49m\u001B[38;5;124;43mrb\u001B[39;49m\u001B[38;5;124;43m\"\u001B[39;49m\u001B[43m)\u001B[49m\n\u001B[0;32m    204\u001B[0m     \u001B[38;5;28mself\u001B[39m\u001B[38;5;241m.\u001B[39mlittle_endian \u001B[38;5;241m=\u001B[39m \u001B[38;5;28;01mTrue\u001B[39;00m  \u001B[38;5;66;03m# RIFF WAV is a little-endian format (most ``audioop`` operations assume that the frames are stored in little-endian form)\u001B[39;00m\n\u001B[0;32m    205\u001B[0m \u001B[38;5;28;01mexcept\u001B[39;00m (wave\u001B[38;5;241m.\u001B[39mError, \u001B[38;5;167;01mEOFError\u001B[39;00m):\n",
      "File \u001B[1;32m~\\.pyenv\\pyenv-win\\versions\\3.10.0b3\\lib\\wave.py:509\u001B[0m, in \u001B[0;36mopen\u001B[1;34m(f, mode)\u001B[0m\n\u001B[0;32m    507\u001B[0m         mode \u001B[38;5;241m=\u001B[39m \u001B[38;5;124m'\u001B[39m\u001B[38;5;124mrb\u001B[39m\u001B[38;5;124m'\u001B[39m\n\u001B[0;32m    508\u001B[0m \u001B[38;5;28;01mif\u001B[39;00m mode \u001B[38;5;129;01min\u001B[39;00m (\u001B[38;5;124m'\u001B[39m\u001B[38;5;124mr\u001B[39m\u001B[38;5;124m'\u001B[39m, \u001B[38;5;124m'\u001B[39m\u001B[38;5;124mrb\u001B[39m\u001B[38;5;124m'\u001B[39m):\n\u001B[1;32m--> 509\u001B[0m     \u001B[38;5;28;01mreturn\u001B[39;00m \u001B[43mWave_read\u001B[49m\u001B[43m(\u001B[49m\u001B[43mf\u001B[49m\u001B[43m)\u001B[49m\n\u001B[0;32m    510\u001B[0m \u001B[38;5;28;01melif\u001B[39;00m mode \u001B[38;5;129;01min\u001B[39;00m (\u001B[38;5;124m'\u001B[39m\u001B[38;5;124mw\u001B[39m\u001B[38;5;124m'\u001B[39m, \u001B[38;5;124m'\u001B[39m\u001B[38;5;124mwb\u001B[39m\u001B[38;5;124m'\u001B[39m):\n\u001B[0;32m    511\u001B[0m     \u001B[38;5;28;01mreturn\u001B[39;00m Wave_write(f)\n",
      "File \u001B[1;32m~\\.pyenv\\pyenv-win\\versions\\3.10.0b3\\lib\\wave.py:159\u001B[0m, in \u001B[0;36mWave_read.__init__\u001B[1;34m(self, f)\u001B[0m\n\u001B[0;32m    157\u001B[0m \u001B[38;5;28mself\u001B[39m\u001B[38;5;241m.\u001B[39m_i_opened_the_file \u001B[38;5;241m=\u001B[39m \u001B[38;5;28;01mNone\u001B[39;00m\n\u001B[0;32m    158\u001B[0m \u001B[38;5;28;01mif\u001B[39;00m \u001B[38;5;28misinstance\u001B[39m(f, \u001B[38;5;28mstr\u001B[39m):\n\u001B[1;32m--> 159\u001B[0m     f \u001B[38;5;241m=\u001B[39m \u001B[43mbuiltins\u001B[49m\u001B[38;5;241;43m.\u001B[39;49m\u001B[43mopen\u001B[49m\u001B[43m(\u001B[49m\u001B[43mf\u001B[49m\u001B[43m,\u001B[49m\u001B[43m \u001B[49m\u001B[38;5;124;43m'\u001B[39;49m\u001B[38;5;124;43mrb\u001B[39;49m\u001B[38;5;124;43m'\u001B[39;49m\u001B[43m)\u001B[49m\n\u001B[0;32m    160\u001B[0m     \u001B[38;5;28mself\u001B[39m\u001B[38;5;241m.\u001B[39m_i_opened_the_file \u001B[38;5;241m=\u001B[39m f\n\u001B[0;32m    161\u001B[0m \u001B[38;5;66;03m# else, assume it is an open file object already\u001B[39;00m\n",
      "\u001B[1;31mOSError\u001B[0m: [Errno 22] Invalid argument: '/C:\\\\Users\\\\parke\\\\masterEnv\\\\mysprenv\\\\Harvard list 01.wav'"
     ]
    }
   ],
   "source": [
    "with harvard as source:\n",
    "    audio = recog.record(source)"
   ]
  },
  {
   "cell_type": "code",
   "execution_count": null,
   "id": "35362819",
   "metadata": {},
   "outputs": [],
   "source": [
    "type(audio)"
   ]
  },
  {
   "cell_type": "code",
   "execution_count": null,
   "id": "1099bedb",
   "metadata": {},
   "outputs": [],
   "source": [
    "recog.recognize_google(audio)"
   ]
  },
  {
   "cell_type": "markdown",
   "id": "4ff7784b",
   "metadata": {},
   "source": [
    "# Try with Jackhammer "
   ]
  },
  {
   "cell_type": "code",
   "execution_count": null,
   "id": "b84ac1be",
   "metadata": {},
   "outputs": [],
   "source": [
    "jackhammer_wav_file = r'/Users/benjaminsprague/Projects/data_science/00-pythonWIP/Projects/SpeechRec/python-speech-recognition/audio_files/jackhammer.wav'"
   ]
  },
  {
   "cell_type": "code",
   "execution_count": null,
   "id": "7e102d97",
   "metadata": {},
   "outputs": [],
   "source": [
    "jackhammer_wav_file"
   ]
  },
  {
   "cell_type": "code",
   "execution_count": null,
   "id": "8166f239",
   "metadata": {},
   "outputs": [],
   "source": [
    "type(jackhammer_wav_file)"
   ]
  },
  {
   "cell_type": "code",
   "execution_count": null,
   "id": "650fb914",
   "metadata": {},
   "outputs": [],
   "source": [
    "jackhammer_wav_file = sr.AudioFile(jackhammer_wav_file)\n",
    "jackhammer_wav_file"
   ]
  },
  {
   "cell_type": "code",
   "execution_count": null,
   "id": "f477ac54",
   "metadata": {},
   "outputs": [],
   "source": [
    "type(jackhammer_wav_file)"
   ]
  },
  {
   "cell_type": "markdown",
   "id": "db5c9fce",
   "metadata": {},
   "source": [
    "## Stop here to run recognizer on a different file"
   ]
  },
  {
   "cell_type": "code",
   "execution_count": null,
   "id": "232718a1",
   "metadata": {},
   "outputs": [],
   "source": [
    "with jackhammer_wav_file as source:\n",
    "    audio = recog.record(source)"
   ]
  },
  {
   "cell_type": "code",
   "execution_count": null,
   "id": "67e38dea",
   "metadata": {},
   "outputs": [],
   "source": [
    "type(audio)"
   ]
  },
  {
   "cell_type": "code",
   "execution_count": null,
   "id": "b6a07748",
   "metadata": {},
   "outputs": [],
   "source": [
    "recog.recognize_google(audio)"
   ]
  },
  {
   "cell_type": "code",
   "execution_count": null,
   "id": "7d607b09",
   "metadata": {},
   "outputs": [],
   "source": [
    "type(audio)"
   ]
  },
  {
   "cell_type": "code",
   "execution_count": null,
   "id": "1aae4e44",
   "metadata": {},
   "outputs": [],
   "source": []
  },
  {
   "cell_type": "markdown",
   "id": "03634f53",
   "metadata": {},
   "source": [
    "# Try with Vietnamese Music File"
   ]
  },
  {
   "cell_type": "code",
   "execution_count": null,
   "id": "3db1f46e",
   "metadata": {},
   "outputs": [],
   "source": [
    "viet_folder = r'/Users/benjaminsprague/Projects/data_science/00-pythonWIP/Projects/SpeechRec/python-speech-recognition/audio_files/'"
   ]
  },
  {
   "cell_type": "code",
   "execution_count": null,
   "id": "fa0d0955",
   "metadata": {},
   "outputs": [],
   "source": [
    "viet_folder"
   ]
  },
  {
   "cell_type": "code",
   "execution_count": null,
   "id": "6dfa311f",
   "metadata": {},
   "outputs": [],
   "source": [
    "viet_mp3_file = r'VietSong.wav'"
   ]
  },
  {
   "cell_type": "code",
   "execution_count": null,
   "id": "05c75afc",
   "metadata": {},
   "outputs": [],
   "source": [
    "viet_mp3_path = viet_folder + viet_mp3_file\n",
    "viet_mp3_path"
   ]
  },
  {
   "cell_type": "code",
   "execution_count": null,
   "id": "d83704e8",
   "metadata": {},
   "outputs": [],
   "source": [
    "viet_song = sr.AudioFile(viet_mp3_path)\n",
    "viet_song"
   ]
  },
  {
   "cell_type": "code",
   "execution_count": null,
   "id": "aeb9f660",
   "metadata": {},
   "outputs": [],
   "source": [
    "with viet_song as source:\n",
    "    audio = recog.record(source)"
   ]
  },
  {
   "cell_type": "markdown",
   "id": "a052cbe4",
   "metadata": {},
   "source": [
    "with viet_song as source:\n",
    "    audio = recog.record(source)"
   ]
  },
  {
   "cell_type": "code",
   "execution_count": null,
   "id": "e96907ac",
   "metadata": {},
   "outputs": [],
   "source": [
    "vietText = recog.recognize_google(audio, language='vi-VN')"
   ]
  },
  {
   "cell_type": "code",
   "execution_count": null,
   "id": "dcd1d9de",
   "metadata": {},
   "outputs": [],
   "source": [
    "translator = Translator(from_lang=\"vi\", to_lang=\"en\")"
   ]
  },
  {
   "cell_type": "code",
   "execution_count": null,
   "id": "ed0c00e2",
   "metadata": {},
   "outputs": [],
   "source": [
    "translation = translator.translate(vietText[0:500])"
   ]
  },
  {
   "cell_type": "code",
   "execution_count": null,
   "id": "9edb8373",
   "metadata": {},
   "outputs": [],
   "source": [
    "print(vietText)"
   ]
  },
  {
   "cell_type": "code",
   "execution_count": null,
   "id": "c6d86694",
   "metadata": {},
   "outputs": [],
   "source": [
    "print(translation)"
   ]
  },
  {
   "cell_type": "code",
   "execution_count": null,
   "id": "5ac0644b",
   "metadata": {},
   "outputs": [],
   "source": [
    "import os"
   ]
  },
  {
   "cell_type": "code",
   "execution_count": null,
   "id": "973c3137",
   "metadata": {},
   "outputs": [],
   "source": [
    "print(os.path)"
   ]
  },
  {
   "cell_type": "code",
   "execution_count": null,
   "id": "b02b8005",
   "metadata": {},
   "outputs": [],
   "source": []
  }
 ],
 "metadata": {
  "kernelspec": {
   "name": "pycharm-9a8ea119",
   "language": "python",
   "display_name": "PyCharm (15-Spyder)"
  },
  "language_info": {
   "codemirror_mode": {
    "name": "ipython",
    "version": 3
   },
   "file_extension": ".py",
   "mimetype": "text/x-python",
   "name": "python",
   "nbconvert_exporter": "python",
   "pygments_lexer": "ipython3",
   "version": "3.9.1"
  }
 },
 "nbformat": 4,
 "nbformat_minor": 5
}